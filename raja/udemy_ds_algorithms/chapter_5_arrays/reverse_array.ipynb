{
 "cells": [
  {
   "cell_type": "markdown",
   "metadata": {},
   "source": [
    "# Chapter 5 Arrays\n",
    "\n",
    "## Using Debugger"
   ]
  },
  {
   "cell_type": "code",
   "execution_count": 5,
   "metadata": {},
   "outputs": [
    {
     "name": "stdout",
     "output_type": "stream",
     "text": [
      "a\n",
      "b\n",
      "c\n",
      "d\n",
      "e\n",
      "f\n",
      "g\n",
      "h\n",
      "i\n",
      "j\n",
      "[9, 8]\n",
      "[7, 8]\n"
     ]
    }
   ],
   "source": [
    "mystr = \"abcdefghij\"\n",
    "\n",
    "for c in mystr:\n",
    "    print(c)\n",
    "    \n",
    "mylist = [0,1,2,3,4,5,6,7,8,9]\n",
    "a = mylist[0]\n",
    "b = mylist[-1]\n",
    "c = mylist[0:3]\n",
    "d = mylist[-1:-3:-1]\n",
    "print(d)\n",
    "e = mylist[-3:-1:1]\n",
    "print(e)"
   ]
  },
  {
   "cell_type": "markdown",
   "metadata": {},
   "source": [
    "## Implementation: Reverse array without doing it in place"
   ]
  },
  {
   "cell_type": "code",
   "execution_count": null,
   "metadata": {},
   "outputs": [],
   "source": []
  },
  {
   "cell_type": "markdown",
   "metadata": {},
   "source": [
    "## Implementation: Reverse array in place"
   ]
  },
  {
   "cell_type": "code",
   "execution_count": null,
   "metadata": {},
   "outputs": [],
   "source": []
  }
 ],
 "metadata": {
  "kernelspec": {
   "display_name": "infinstor",
   "language": "python",
   "name": "python3"
  },
  "language_info": {
   "codemirror_mode": {
    "name": "ipython",
    "version": 3
   },
   "file_extension": ".py",
   "mimetype": "text/x-python",
   "name": "python",
   "nbconvert_exporter": "python",
   "pygments_lexer": "ipython3",
   "version": "3.11.5"
  }
 },
 "nbformat": 4,
 "nbformat_minor": 2
}
