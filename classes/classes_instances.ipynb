{
 "cells": [
  {
   "cell_type": "markdown",
   "metadata": {},
   "source": []
  },
  {
   "cell_type": "markdown",
   "metadata": {},
   "source": [
    "Screenshot below from [../pictures.drawio](../pictures.drawio)\n",
    "\n",
    "<img src=\"images/2024-03-21%2014_49_19-Window.png\" width=1024>"
   ]
  },
  {
   "cell_type": "code",
   "execution_count": 1,
   "metadata": {},
   "outputs": [],
   "source": [
    "\n",
    "# class definition\n",
    "class FirstClass:                 # Define a class  object\n",
    "    # class variable\n",
    "    cls_var = \"cls_var1\"\n",
    "\n",
    "    def setdata(self, value):     # Define class's methods\n",
    "       # data is an instance variable\n",
    "       self.data = value          # self is the instance\n",
    "    \n",
    "    def setInstanceName(self, new_val):\n",
    "        self.instanceName = new_val\n",
    "\n",
    "    def addValue(self, value):\n",
    "       self.data = self.data + value\n",
    "\n",
    "    def setInstanceName(self, name):\n",
    "       self.instanceName = name\n",
    "\n",
    "    # class method\n",
    "    @classmethod\n",
    "    def setCls_var(cls, new_val):        \n",
    "       FirstClass.cls_var = new_val # can also use: cls.cls_var\n",
    "\n",
    "    def display(self):\n",
    "       print(f\"self.data = {self.data}\")           # self.data: per instance\n",
    "       print(f\"self.instanceName = {self.instanceName}\")\n",
    "       print(f\"FirstClass.cls_var = {FirstClass.cls_var}\")  # can also say: self.cls_var "
   ]
  },
  {
   "cell_type": "code",
   "execution_count": 6,
   "metadata": {},
   "outputs": [
    {
     "name": "stdout",
     "output_type": "stream",
     "text": [
      "self.data = New value has a sword\n",
      "self.instanceName = instance x\n",
      "FirstClass.cls_var = cls_var1\n"
     ]
    }
   ],
   "source": [
    "x = FirstClass()         \n",
    "\n",
    "x.setdata(\"King Arthur\") # Call methods: self is x\n",
    "x.setdata(\"New value\")   # x.setdata(self=x, value=2.1415)\n",
    "x.addValue(\" has a sword\")\n",
    "x.setInstanceName(\"instance x\")\n",
    "FirstClass.setCls_var(\"cls_var2\")\n",
    "\n",
    "# class display() method with self=x\n",
    "x.display()"
   ]
  },
  {
   "cell_type": "code",
   "execution_count": 2,
   "metadata": {},
   "outputs": [
    {
     "name": "stdout",
     "output_type": "stream",
     "text": [
      "self.data = 4.141500000000001\n",
      "self.instanceName = instance y\n",
      "FirstClass.cls_var = cls_var3\n"
     ]
    }
   ],
   "source": [
    "y = FirstClass()      # Each is a new namespace\n",
    "\n",
    "y.setdata(3.14159)\n",
    "\n",
    "y.setdata(2.1415)     # y.setdata(self=y, value=2.1415)\n",
    "\n",
    "y.addValue(2)         # y.addValue(self=y, value=2)\n",
    "\n",
    "y.setInstanceName(\"instance y\")\n",
    "\n",
    "FirstClass.setCls_var(\"cls_var3\")\n",
    "\n",
    "# self.data = 4.1415\n",
    "# self.instanceName = \"instance y\"\n",
    "# FirstClass.cls_var = \"cls_var3\"\n",
    "y.display()"
   ]
  }
 ],
 "metadata": {
  "kernelspec": {
   "display_name": "infinstor",
   "language": "python",
   "name": "python3"
  },
  "language_info": {
   "codemirror_mode": {
    "name": "ipython",
    "version": 3
   },
   "file_extension": ".py",
   "mimetype": "text/x-python",
   "name": "python",
   "nbconvert_exporter": "python",
   "pygments_lexer": "ipython3",
   "version": "3.11.5"
  }
 },
 "nbformat": 4,
 "nbformat_minor": 2
}
