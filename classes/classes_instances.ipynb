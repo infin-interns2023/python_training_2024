{
 "cells": [
  {
   "cell_type": "markdown",
   "metadata": {},
   "source": [
    "# Object Oriented Programming and Classes\n",
    "\n",
    "## Class, Instance, Instance Variable, Class Variable  (Page 799 of book)\n",
    "\n",
    "Screenshot below from [../pictures.drawio](../pictures.drawio)\n",
    "\n",
    "<img src=\"images/2024-03-21%2014_49_19-Window.png\" width=1024>"
   ]
  },
  {
   "cell_type": "code",
   "execution_count": 2,
   "metadata": {},
   "outputs": [],
   "source": [
    "\n",
    "# class definition\n",
    "class FirstClass:                 # Define a class  object\n",
    "    # class variable\n",
    "    cls_var = \"cls_var1\"\n",
    "\n",
    "    def setdata(self, value):     # Define class's methods\n",
    "       # data is an instance variable\n",
    "       self.data = value          # self is the instance\n",
    "    \n",
    "    def setInstanceName(self, new_val):\n",
    "        self.instanceName = new_val\n",
    "\n",
    "    def addValue(self, value):\n",
    "       self.data = self.data + value\n",
    "\n",
    "    def setInstanceName(self, name):\n",
    "       self.instanceName = name\n",
    "\n",
    "    # class method\n",
    "    @classmethod\n",
    "    def setCls_var(cls, new_val):        \n",
    "       FirstClass.cls_var = new_val # can also use: cls.cls_var\n",
    "\n",
    "    def display(self):\n",
    "       print(f\"self.data = {self.data}\")           # self.data: per instance\n",
    "       print(f\"self.instanceName = {self.instanceName}\")\n",
    "       print(f\"FirstClass.cls_var = {FirstClass.cls_var}\")  # can also say: self.cls_var "
   ]
  },
  {
   "cell_type": "code",
   "execution_count": 6,
   "metadata": {},
   "outputs": [
    {
     "name": "stdout",
     "output_type": "stream",
     "text": [
      "self.data = New value has a sword\n",
      "self.instanceName = instance x\n",
      "FirstClass.cls_var = cls_var1\n"
     ]
    }
   ],
   "source": [
    "x = FirstClass()         \n",
    "\n",
    "x.setdata(\"King Arthur\") # Call methods: self is x\n",
    "x.setdata(\"New value\")   # x.setdata(self=x, value=2.1415)\n",
    "x.addValue(\" has a sword\")\n",
    "x.setInstanceName(\"instance x\")\n",
    "FirstClass.setCls_var(\"cls_var2\")\n",
    "\n",
    "# class display() method with self=x\n",
    "x.display()"
   ]
  },
  {
   "cell_type": "code",
   "execution_count": 2,
   "metadata": {},
   "outputs": [
    {
     "name": "stdout",
     "output_type": "stream",
     "text": [
      "self.data = 4.141500000000001\n",
      "self.instanceName = instance y\n",
      "FirstClass.cls_var = cls_var3\n"
     ]
    }
   ],
   "source": [
    "y = FirstClass()      # Each is a new namespace\n",
    "\n",
    "y.setdata(3.14159)\n",
    "\n",
    "y.setdata(2.1415)     # y.setdata(self=y, value=2.1415)\n",
    "\n",
    "y.addValue(2)         # y.addValue(self=y, value=2)\n",
    "\n",
    "y.setInstanceName(\"instance y\")\n",
    "\n",
    "FirstClass.setCls_var(\"cls_var3\")\n",
    "\n",
    "# self.data = 4.1415\n",
    "# self.instanceName = \"instance y\"\n",
    "# FirstClass.cls_var = \"cls_var3\"\n",
    "y.display()"
   ]
  },
  {
   "cell_type": "markdown",
   "metadata": {},
   "source": [
    "## Inheritence and how attributes and methods are searched in a class hierarchy (Page 802)\n",
    "\n",
    "<img src=\"images/inheritence_2024-03-25_11_30_03-Learning_Python_5E.png\" width=512>"
   ]
  },
  {
   "cell_type": "code",
   "execution_count": 3,
   "metadata": {},
   "outputs": [
    {
     "name": "stdout",
     "output_type": "stream",
     "text": [
      "Calling z.display()\n",
      "Current value = \"42\"\n",
      "Calling x.display()\n",
      "self.data = New Value\n",
      "self.instanceName = x instance\n",
      "FirstClass.cls_var = cls_var1\n"
     ]
    }
   ],
   "source": [
    "class SecondClass(FirstClass): # Inherits setdata\n",
    "    def display(self): # Changes display\n",
    "        print('Current value = \"%s\"' % self.data)\n",
    "        \n",
    "z = SecondClass()\n",
    "# python interpreter: python.exe: will search for setdata() method from bottom to top: start search in 'z' (instance), then in 'SecondClass', then in 'FirstClass'.\n",
    "z.setdata(42) # Finds setdata in FirstClass\n",
    "print(\"Calling z.display()\")\n",
    "z.display() # Finds overridden method in SecondClass\n",
    "# Current value = \"42\n",
    "\n",
    "x = FirstClass()\n",
    "# python interpreter: python.exe: will search for setdata() method from bottom to top: start search in 'x' (instance), then in 'FirstClass' ('SecondClass' is never searched)\n",
    "x.setdata('New Value') # \n",
    "x.setInstanceName('x instance')\n",
    "print(\"Calling x.display()\")\n",
    "x.display()"
   ]
  },
  {
   "cell_type": "markdown",
   "metadata": {},
   "source": [
    "## Overriding python operators: Classes can intercept python operators like '+', '-', '*', str() and others (page 805)"
   ]
  },
  {
   "cell_type": "code",
   "execution_count": 6,
   "metadata": {},
   "outputs": [
    {
     "name": "stdout",
     "output_type": "stream",
     "text": [
      "calling a.display()\n",
      "Current value = \"abc\"\n",
      "calling print(a)\n",
      "[ThirdClass: abc]\n",
      "Evaulating b = a + 'xyz'\n",
      "Current value = \"abcxyz\"\n",
      "calling print(b)\n",
      "[ThirdClass: abcxyz]\n",
      "calling a.mul(3)\n",
      "[ThirdClass: abcabcabc]\n"
     ]
    }
   ],
   "source": [
    "class ThirdClass(SecondClass): # Inherit from SecondClass\n",
    "    # constructor\n",
    "    def __init__(self, value): # On \"ThirdClass(value)\"\n",
    "        self.data = value\n",
    "    \n",
    "    # special method: __add__() is invoked when '+' is used with an instance of this class.\n",
    "    def __add__(self, other): # On \"self + other\"\n",
    "        return ThirdClass(self.data + other)\n",
    "\n",
    "    # special method: __str__() is invoked when str() is used with an instance of this class.\n",
    "    def __str__(self): # On \"print(self)\", \"str()\"\n",
    "        return '[ThirdClass: %s]' % self.data\n",
    "\n",
    "    # \n",
    "    def mul(self, other): # In-place change: named\n",
    "        self.data *= other\n",
    "\n",
    "# a is an instance of 'ThirdClass'\n",
    "a = ThirdClass('abc') # __init__ called;  self=a; value='abc'\n",
    "print('calling a.display()')\n",
    "a.display() # Inherited method called: display() in SecondClass.\n",
    "# Current value = \"abc\"\n",
    "\n",
    "print('calling print(a)')\n",
    "print(a) # __str__: returns display string.  Actual call is print(a.__str__())\n",
    "# [ThirdClass: abc]\n",
    "\n",
    "print(\"Evaulating b = a + 'xyz'\")\n",
    "b = a + 'xyz' # __add__: makes a new instance;  calls __add__(self=a, other='xyz')\n",
    "b.display() # b has all ThirdClass methods\n",
    "# Current value = \"abcxyz\"\n",
    "\n",
    "print(\"calling print(b)\")\n",
    "print(b) # __str__: returns display string; calls print(b.__str__())\n",
    "# [ThirdClass: abcxyz]\n",
    "\n",
    "print(\"calling a.mul(3)\")\n",
    "a.mul(3) # mul: changes instance in place; calls mul(self=a, other=3); 'abc' * 3 = 'abcabcabc'\n",
    "print(a)\n",
    "# [ThirdClass: abcabcabc]"
   ]
  }
 ],
 "metadata": {
  "kernelspec": {
   "display_name": "infinstor",
   "language": "python",
   "name": "python3"
  },
  "language_info": {
   "codemirror_mode": {
    "name": "ipython",
    "version": 3
   },
   "file_extension": ".py",
   "mimetype": "text/x-python",
   "name": "python",
   "nbconvert_exporter": "python",
   "pygments_lexer": "ipython3",
   "version": "3.11.5"
  }
 },
 "nbformat": 4,
 "nbformat_minor": 2
}
